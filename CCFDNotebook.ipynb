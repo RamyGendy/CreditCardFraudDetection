{
  "cells": [
    {
      "cell_type": "markdown",
      "metadata": {
        "id": "YbS6GPoI4kiN"
      },
      "source": [
        "# Credit Card Fraud Detection Project Notebook"
      ]
    },
    {
      "cell_type": "markdown",
      "metadata": {
        "id": "y8rHj1MS4kiU"
      },
      "source": [
        "## By Eng. Ramy Gendy"
      ]
    },
    {
      "cell_type": "markdown",
      "metadata": {
        "id": "XcX3RRux4kiX"
      },
      "source": [
        "## Introduction\n",
        "\n",
        "> It is important that credit card companies are able to recognize fraudulent credit card transactions so that customers are not charged for items that they did not purchase. I will use various predictive models to see how accurate they are in detecting whether a transaction is a normal payment or a fraud."
      ]
    },
    {
      "cell_type": "markdown",
      "metadata": {
        "id": "zgkkK1Bq4kic"
      },
      "source": [
        "<a id='Investigation Overview'></a>\n",
        "## Investigation Overview\n",
        "\n",
        "> In this project, I will conduct analysis on `Credit Card Dataset`. I will pick some of the variables that are related to Target to analyze. I will first do some data wrangling, and then move on to EDA using different types of charts to explore relationships between/among variables, and create and answer our questions.\n",
        "\n",
        " **Questions:**\n",
        "\n",
        "<a href=\"#01\">01. Which Job has the most demand in the market?</a>\n",
        "\n",
        "<a href=\"#02\">02. Top 5 Sectors with the highest job posts?</a>\n",
        "\n",
        "<a href=\"#03\">03. Top Other Jobs titles share the same roles in data science with most demand?</a>\n",
        "\n",
        "<a href=\"#04\">04. Top 5 Industries with the highest job posts?</a>\n",
        "\n",
        "<a href=\"#05\">05. What are the top needed skills for each job title?</a>\n",
        "\n",
        "<a href=\"#06\">06. Which Job Title get paid Most?</a>\n",
        "\n",
        "<a href=\"#0708\">07. Which state pays the highest average salary?</a>\n",
        "\n",
        "<a href=\"#0708\">08. Minimum and Maximum Salaries in different states?</a>\n",
        "\n",
        "<a href=\"#09\">09. Top 10 States with the Most jobs?</a>\n",
        "\n",
        "<a href=\"#10\">10. what is the Average Salary of each posted job title in each state?</a>\n",
        "\n",
        "<a href=\"#11\">11. Is there is a correlation between the Average salary and the company's age, number of competitors and Ratings?</a>\n",
        "\n",
        "<a href=\"#12\">12. Is there a relation between Average Salary, Company Age and their Compatitors with jobs?</a>\n",
        "\n",
        "<a href=\"#13\">13. What is the relation between Average Salary and Company Size with different Job Titles?</a>\n"
      ]
    },
    {
      "cell_type": "markdown",
      "metadata": {
        "id": "EtsuZIqB4kil"
      },
      "source": [
        "## Table of Contents:\n",
        " * <a href=\"#Intro\">Introduction.</a>\n",
        " * <a href=\"#Investigation Overview\">Investigation Overview.</a>\n",
        " * <a href=\"#Dataset Overview & Understanding\">Dataset Overview & Understanding.</a>\n",
        " * <a href=\"#Data Preprocessing\">Data Preprocessing:</a>\n",
        "     * Apply Feature Engineering and Extraction:\n",
        "       - Domain knowledge features.\n",
        "       - Apply string operations.\n",
        "       - Work with Text.\n",
        "     * Apply Feature Transformations: \n",
        "       - Data Cleaning.\n",
        "       - Work with Missing data.\n",
        "       - Work with Categorical data.\n",
        " * <a href=\"#Exploratory Data Analysis\">Exploratory Data Analysis</a>\n",
        " * <a href=\"#Conclusion\">Conclusion</a>\n",
        "  * <a href=\"#References\">References</a>"
      ]
    },
    {
      "cell_type": "code",
      "execution_count": null,
      "metadata": {
        "id": "J9Vuovsu4kiq"
      },
      "outputs": [],
      "source": [
        "# Importing libraries\n",
        "# numpy library use to do array operations and also to do calculations\n",
        "import numpy as np\n",
        "# pandas library use to load dataset and also manipulate tabular data\n",
        "import pandas as pd\n",
        "# matplot library use to plot different graphs\n",
        "import matplotlib\n",
        "import matplotlib.pyplot as plt\n",
        "%matplotlib inline\n",
        "from IPython.core.pylabtools import figsize\n",
        "from matplotlib import rcParams\n",
        "rcParams['figure.figsize'] = 12,5\n",
        "# seaborn library use to plot different plots\n",
        "import seaborn as sns"
      ]
    },
    {
      "cell_type": "code",
      "execution_count": null,
      "metadata": {
        "id": "irHLOO-S4kit"
      },
      "outputs": [],
      "source": [
        "# Ignore matched warnings and never print them\n",
        "import warnings\n",
        "warnings.filterwarnings('ignore')"
      ]
    },
    {
      "cell_type": "code",
      "execution_count": null,
      "metadata": {
        "id": "7dKIWyhI4kiw"
      },
      "outputs": [],
      "source": [
        "# Set display format for float numbers to the neareast 2 decimal points\n",
        "pd.options.display.float_format = \"{:,.2f}\".format\n",
        "# settings the display\n",
        "pd.set_option(\"display.max_columns\", None)\n",
        "#pd.set_option('display.max_colwidth', None)\n",
        "#pd.set_option('display.max_rows', None)"
      ]
    },
    {
      "cell_type": "markdown",
      "metadata": {
        "id": "GJqwtxtq4kiy"
      },
      "source": [
        "<a id='Dataset Overview & Understanding'></a>\n",
        "## Dataset Overview & Understanding\n",
        "\n",
        "> The dataset of _Glassdoor Jobs_ contains 956 rows and 15 columns. Most variables are categorical, some are numerical. columns like Salary Estimate and Revenue can be presented in numerical values instead of categorical where we can do our statistical analysis better. Some of the variables have a lot of negative values, such as, which I'll need to deal with. Some variables are not of much use, such as company profile: Size, Founded, Type of ownership, Industry, Sector, Revenue, Competitors, which I did not include in my analysis."
      ]
    },
    {
      "cell_type": "markdown",
      "metadata": {
        "id": "_E1iS63-4ki2"
      },
      "source": [
        "### Exploratory Data Analysis\n",
        "\n",
        "By reading and exploring data reading data, displaying it using head() or tails(), explore data using describe(), info(), unique() and value_counts()"
      ]
    },
    {
      "cell_type": "code",
      "execution_count": null,
      "metadata": {
        "id": "79BsbJTl4ki4"
      },
      "outputs": [],
      "source": [
        "# Read dataset\n",
        "df = pd.read_csv('glassdoor_jobs.csv')"
      ]
    },
    {
      "cell_type": "code",
      "execution_count": null,
      "metadata": {
        "id": "JYZbs8-84ki6"
      },
      "outputs": [],
      "source": [
        "# view dataset"
      ]
    },
    {
      "cell_type": "code",
      "source": [],
      "metadata": {
        "id": "c3Bzb6Jj4saI"
      },
      "execution_count": null,
      "outputs": []
    }
  ],
  "metadata": {
    "kernelspec": {
      "display_name": "Python 3.8.8 ('base')",
      "language": "python",
      "name": "python3"
    },
    "language_info": {
      "name": "python",
      "version": "3.8.8"
    },
    "orig_nbformat": 4,
    "vscode": {
      "interpreter": {
        "hash": "d5d0de61fe1417a4d54faf0a4c6fc73fcfe2f47c97ee634933d9d3170d24294a"
      }
    },
    "colab": {
      "provenance": []
    }
  },
  "nbformat": 4,
  "nbformat_minor": 0
}